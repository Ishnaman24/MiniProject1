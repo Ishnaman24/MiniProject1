{
  "nbformat": 4,
  "nbformat_minor": 0,
  "metadata": {
    "colab": {
      "provenance": [],
      "authorship_tag": "ABX9TyO4wh2o4Ccc5Te23SMIEecE",
      "include_colab_link": true
    },
    "kernelspec": {
      "name": "python3",
      "display_name": "Python 3"
    },
    "language_info": {
      "name": "python"
    }
  },
  "cells": [
    {
      "cell_type": "markdown",
      "metadata": {
        "id": "view-in-github",
        "colab_type": "text"
      },
      "source": [
        "<a href=\"https://colab.research.google.com/github/Ishnaman24/MiniProject1/blob/main/MIniProject1.ipynb\" target=\"_parent\"><img src=\"https://colab.research.google.com/assets/colab-badge.svg\" alt=\"Open In Colab\"/></a>"
      ]
    },
    {
      "cell_type": "code",
      "execution_count": null,
      "metadata": {
        "colab": {
          "base_uri": "https://localhost:8080/"
        },
        "id": "3dgjcOWe6jXG",
        "outputId": "2c08fe17-a4e4-4da7-de62-7ebed04f1018"
      },
      "outputs": [
        {
          "output_type": "stream",
          "name": "stdout",
          "text": [
            "(-5, 6, -2, -6, 7)\n",
            "(6, 3, -4, 2, -7)\n",
            "(9, -6, 11, -5, -9)\n",
            "(-7, 9, 3, -2, -3)\n",
            "(-3, -4, 9, 6, -8)\n",
            "(6, -9, -6, -2, 11)\n",
            "(-12, 11, 1, -6, 6)\n",
            "(2, -3, -6, -2, 9)\n",
            "(-2, 6, 3, -8, 1)\n",
            "(2, -5, 3, -7, 7)\n",
            "(-6, 1, -5, 7, 3)\n",
            "(-4, 11, -6, -8, 7)\n",
            "(-4, -12, 7, -2, 11)\n",
            "(-2, -6, 1, -4, 11)\n",
            "(-12, 1, -3, 11, 3)\n",
            "(-12, 7, 2, 11, -8)\n",
            "(6, -7, 1, -9, 9)\n",
            "(6, -12, 11, -3, -2)\n",
            "(1, -7, 11, -3, -2)\n",
            "(7, 2, -12, 11, -8)\n",
            "(9, -3, -2, -5, 1)\n",
            "(-2, 11, 6, -12, -3)\n",
            "(-6, 1, -12, 6, 11)\n",
            "(7, -3, 11, -9, -6)\n",
            "(-4, -7, 2, 11, -2)\n",
            "(3, -12, 1, -3, 11)\n",
            "(3, 11, 6, -12, -8)\n",
            "(9, -8, 6, -5, -2)\n",
            "(1, -3, -12, 11, 3)\n",
            "\n",
            "Total Sets 29\n"
          ]
        },
        {
          "output_type": "stream",
          "name": "stderr",
          "text": [
            "<ipython-input-1-6ffc6b93f9e6>:7: DeprecationWarning: Sampling from a set deprecated\n",
            "since Python 3.9 and will be removed in a subsequent version.\n",
            "  a = r.sample(S,SSize)\n"
          ]
        }
      ],
      "source": [
        "import random as r\n",
        "S = set([-12, -3, -6, 7, 2, -2, 6, 3, 9, -7, -5, -8, 1, 11, -9, -4])\n",
        "SSize = 5\n",
        "L = set()\n",
        "Iterations = 1000\n",
        "for i in range(Iterations):\n",
        "  a = r.sample(S,SSize)\n",
        "  if sum(a)==0:\n",
        "    L.add(tuple(a))\n",
        "\n",
        "for r in L:\n",
        "  print(r)\n",
        "\n",
        "print(\"\\nTotal Sets\",len(L))\n"
      ]
    },
    {
      "cell_type": "code",
      "source": [
        "from os import listxattr\n",
        "\n",
        "import random as r\n",
        "\n",
        "\n",
        "Set         = set([-12, -3, -6, 7, 2, -2, 6, 3, 9, -7, -5, -8, 1, 11, -9, -4])\n",
        "SetLB       = 3\n",
        "SetUB       = 6\n",
        "List = set()  \n",
        "Iterations  = 1000   \n",
        "\n",
        "\n",
        "for i in range(Iterations):\n",
        "\n",
        "    SetSize = r.randint(SetLB,SetUB)\n",
        "\t\n",
        "    \n",
        "    p = r.sample(Set,SetSize)\n",
        "    p.sort()\n",
        "\n",
        "    if sum(p) == 0:\n",
        "        List.add(tuple(p))\n",
        "\n",
        "\n",
        "for r in List:\n",
        "\tprint (r)\n",
        "\n",
        "\n",
        "print (\"\\nTotal Sets: \", len(List))\n"
      ],
      "metadata": {
        "colab": {
          "base_uri": "https://localhost:8080/"
        },
        "id": "aawfIva07_6r",
        "outputId": "7350bbf9-4933-4854-fde7-6225ff25555e"
      },
      "execution_count": null,
      "outputs": [
        {
          "output_type": "stream",
          "name": "stdout",
          "text": [
            "(-7, -4, -2, 6, 7)\n",
            "(-7, -2, 3, 6)\n",
            "(-12, 1, 2, 9)\n",
            "(-7, -3, 1, 3, 6)\n",
            "(-8, -6, 3, 11)\n",
            "(-9, -8, 1, 2, 3, 11)\n",
            "(-5, -3, 2, 6)\n",
            "(-7, -3, 1, 9)\n",
            "(-9, -3, 1, 2, 9)\n",
            "(-12, -4, 2, 3, 11)\n",
            "(-9, -4, 1, 2, 3, 7)\n",
            "(-8, -3, 1, 3, 7)\n",
            "(-12, -7, 2, 6, 11)\n",
            "(-9, -4, 2, 11)\n",
            "(-8, 1, 7)\n",
            "(-12, -2, 2, 3, 9)\n",
            "(-12, -3, 6, 9)\n",
            "(-12, -7, 1, 2, 7, 9)\n",
            "(-9, -2, 11)\n",
            "(-12, -8, -2, 2, 9, 11)\n",
            "(-7, -4, -3, -2, 7, 9)\n",
            "(-9, -5, -2, 7, 9)\n",
            "(-8, -2, 1, 2, 7)\n",
            "(-7, -4, 2, 9)\n",
            "(-12, -5, 2, 6, 9)\n",
            "(-9, -8, -2, 1, 7, 11)\n",
            "(-8, -4, -2, 1, 2, 11)\n",
            "(-8, -6, -4, -2, 9, 11)\n",
            "(-3, 1, 2)\n",
            "(-7, -5, -4, 7, 9)\n",
            "(-9, -6, -2, 2, 6, 9)\n",
            "(-4, -3, 7)\n",
            "(-9, 3, 6)\n",
            "(-7, -6, -5, 7, 11)\n",
            "(-7, -3, 3, 7)\n",
            "(-8, -3, 11)\n",
            "(-6, -5, -2, 1, 3, 9)\n",
            "(-8, -7, -2, 2, 6, 9)\n",
            "\n",
            "Total Sets:  38\n"
          ]
        },
        {
          "output_type": "stream",
          "name": "stderr",
          "text": [
            "<ipython-input-6-8a8bb279757c>:18: DeprecationWarning: Sampling from a set deprecated\n",
            "since Python 3.9 and will be removed in a subsequent version.\n",
            "  p = r.sample(Set,SetSize)\n"
          ]
        }
      ]
    }
  ]
}